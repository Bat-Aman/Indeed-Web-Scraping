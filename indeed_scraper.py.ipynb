{
 "cells": [
  {
   "cell_type": "code",
   "execution_count": 19,
   "metadata": {},
   "outputs": [],
   "source": [
    "import requests\n",
    "import bs4\n",
    "from bs4 import BeautifulSoup\n",
    "from time import sleep\n",
    "\n",
    "import numpy as np\n",
    "import pandas as pd\n",
    "\n",
    "from sklearn.model_selection import cross_val_score, StratifiedKFold, train_test_split\n",
    "from sklearn.tree import DecisionTreeClassifier\n",
    "from sklearn.ensemble import RandomForestClassifier, ExtraTreesClassifier, BaggingClassifier, AdaBoostClassifier, GradientBoostingClassifier\n",
    "from sklearn.metrics import accuracy_score\n",
    "\n",
    "from sklearn.feature_extraction.text import CountVectorizer, HashingVectorizer, TfidfVectorizer"
   ]
  },
  {
   "cell_type": "code",
   "execution_count": null,
   "metadata": {},
   "outputs": [],
   "source": [
    "indeed_cities = ['New+York', 'Chicago', 'San+Francisco', 'San+Jose', 'San+Diego', 'Los+Angeles', 'Washington%2C+DC',\n",
    "                 'Boston', 'Pittsburgh', 'Philadelphia', 'Atlanta', 'Cincinnati', 'St.+Louis', 'Tampa', 'Oakland',\n",
    "                 'Austin', 'Houston', 'Dallas', 'Seattle', 'Portland', 'Denver', 'Phoenix', 'Minneapolis', 'Miami',\n",
    "                 'Charlotte', 'Jacksonville', 'Indianapolis', 'Nashville', 'Kansas+City', 'Columbus']\n",
    "len(indeed_cities)\n",
    "\n",
    "URL = 'https://www.indeed.com/jobs?q=data+analyst&l=New+York&start=10'"
   ]
  },
  {
   "cell_type": "code",
   "execution_count": null,
   "metadata": {},
   "outputs": [],
   "source": [
    "appended_results = []\n",
    "\n",
    "def parser(URL):\n",
    "    html = requests.get(URL)\n",
    "    soup = BeautifulSoup(html.content, 'lxml')\n",
    "    \n",
    "    #results_df = pd.DataFrame(columns = ['Job_title', 'Company', 'Location', 'Salary', 'Job_description'])\n",
    "    \n",
    "    for result in soup.find_all('div', {'class': 'row'}):\n",
    "        try:\n",
    "            title = result.find('h2', {'class' : 'title'}).text.replace('\\n', '')\n",
    "        except:\n",
    "            title = 'NA'\n",
    "   \n",
    "        try:\n",
    "            location = result.find('div', {'class' : 'recJobLoc'})[\"data-rc-loc\"]\n",
    "        except:\n",
    "            location = 'NA'\n",
    "        \n",
    "        try:\n",
    "            company = result.find('span', {'class' : 'company'}).text.replace('\\n', '')\n",
    "        except:\n",
    "            company = 'NA'\n",
    "                \n",
    "        try:\n",
    "            salary = result.find('span', {'class' : 'no-wrap'}).text\n",
    "        except:\n",
    "            salary = 'NA'\n",
    "        \n",
    "        job_description = result.find('div', {'class' : 'summary'}).text.replace('\\n', '')\n",
    "        \n",
    "        data_parsed = {\n",
    "                            'Job_title' : title, 'Company' : company,\n",
    "                            'Location' : location, 'Salary' : salary,\n",
    "                            'Job_description' : job_description\n",
    "                          }\n",
    "        appended_results.append(data_parsed)\n",
    "    \n",
    "    results_df = pd.DataFrame(appended_results)\n",
    "    return results_df"
   ]
  },
  {
   "cell_type": "code",
   "execution_count": null,
   "metadata": {},
   "outputs": [],
   "source": [
    "parser(URL)"
   ]
  },
  {
   "cell_type": "code",
   "execution_count": null,
   "metadata": {},
   "outputs": [],
   "source": [
    "url_template = 'https://www.indeed.com/jobs?q=data+analyst&l={}&start={}'\n",
    "max_results_per_city = 1000\n",
    "\n",
    "city_list = [\n",
    "             'New+York', 'Chicago', 'San+Francisco', 'Austin', 'Seattle', 'Los+Angeles', 'Philadelphia', 'Atlanta',\n",
    "             'Dallas', 'Pittsburgh', 'Portland', 'Phoenix', 'Denver', 'Houston', 'Miami', 'Charlottesville',\n",
    "             'Richmond', 'Baltimore', 'Harrisonburg', 'San+Antonio', 'San+Diego', 'San+Jose' 'Austin', 'Jacksonville',\n",
    "             'Indianapolis', 'Columbus', 'Fort+Worth', 'Charlotte', 'Detroit', 'El+Paso', 'Memphis', 'Boston', 'Nashville',\n",
    "             'Louisville', 'Milwaukee', 'Las+Vegas', 'Albuquerque', 'Tucson', 'Fresno', 'Sacramento', 'Long+Beach', 'Mesa',\n",
    "             'Virginia+Beach', 'Norfolk', 'Atlanta', 'Colorado+Springs', 'Raleigh', 'Omaha', 'Oakland', 'Tulsa', 'Minneapolis',\n",
    "             'Cleveland', 'Wichita', 'Arlington', 'New+Orleans', 'Bakersfield', 'Tampa', 'Honolulu', 'Anaheim', 'Aurora',\n",
    "             'Santa+Ana', 'Riverside', 'Corpus+Christi', 'Pittsburgh', 'Lexington', 'Anchorage', 'Cincinnati', 'Baton+Rouge',\n",
    "             'Chesapeake', 'Alexandria', 'Fairfax', 'Herndon', 'Reston', 'Roanoke'\n",
    "            ]\n",
    "\n",
    "for city in city_list:\n",
    "    for start in range(0, max_results_per_city, 10):\n",
    "        url = url_template.format(city, start)\n",
    "        html = requests.get(url)\n",
    "        soup = BeautifulSoup(html.content, 'lxml')\n",
    "        \n",
    "        for result in soup.find_all('div', {'class': 'row'}):\n",
    "            try:\n",
    "                title = result.find('h2', {'class' : 'title'}).text.replace('\\n', '')\n",
    "            except:\n",
    "                title = 'NA'\n",
    "\n",
    "            try:\n",
    "                location = result.find('div', {'class' : 'recJobLoc'})[\"data-rc-loc\"]\n",
    "            except:\n",
    "                location = 'NA'\n",
    "\n",
    "            try:\n",
    "                company = result.find('span', {'class' : 'company'}).text.replace('\\n', '')\n",
    "            except:\n",
    "                company = 'NA'\n",
    "\n",
    "            try:\n",
    "                salary = result.find('span', {'class' : 'no-wrap'}).text\n",
    "            except:\n",
    "                salary = 'NA'\n",
    "\n",
    "            job_description = result.find('div', {'class' : 'summary'}).text.replace('\\n', '')\n",
    "\n",
    "            data_parsed = {\n",
    "                                'Job_title' : title, 'Company' : company,\n",
    "                                'Location' : location, 'Salary' : salary,\n",
    "                                'Job_description' : job_description\n",
    "                              }\n",
    "            appended_results.append(data_parsed)\n",
    "    \n",
    "        results_df = pd.DataFrame(appended_results)\n",
    "print(results_df)\n",
    "        \n",
    "        \n"
   ]
  },
  {
   "cell_type": "code",
   "execution_count": null,
   "metadata": {},
   "outputs": [],
   "source": [
    "results_df.shape"
   ]
  },
  {
   "cell_type": "code",
   "execution_count": null,
   "metadata": {},
   "outputs": [],
   "source": [
    "results_df.to_csv('Indeed_uncleaned_data.csv', encoding = 'utf-8')"
   ]
  },
  {
   "cell_type": "code",
   "execution_count": null,
   "metadata": {},
   "outputs": [],
   "source": [
    "X = pd.read_csv('Indeed_uncleaned_data.csv')"
   ]
  },
  {
   "cell_type": "code",
   "execution_count": null,
   "metadata": {},
   "outputs": [],
   "source": [
    "X.drop('Unnamed: 0', axis = 1, inplace = True)\n"
   ]
  },
  {
   "cell_type": "code",
   "execution_count": null,
   "metadata": {},
   "outputs": [],
   "source": [
    "print(X.head())\n",
    "X.shape"
   ]
  },
  {
   "cell_type": "code",
   "execution_count": null,
   "metadata": {},
   "outputs": [],
   "source": [
    "# ---------------------- DATA PREPROCESSING -----------------------------------\n",
    "\n",
    "X = X.drop_duplicates()\n",
    "X.reset_index(drop = True, inplace = True)\n",
    "X.shape"
   ]
  },
  {
   "cell_type": "code",
   "execution_count": null,
   "metadata": {},
   "outputs": [],
   "source": [
    "X['Salary'].value_counts()"
   ]
  },
  {
   "cell_type": "code",
   "execution_count": null,
   "metadata": {},
   "outputs": [],
   "source": [
    "# removing unwanted charcters from 'Salary' column\n",
    "\n",
    "X['Salary'] = X['Salary'].str.replace(\"\\n\", '')\n",
    "X['Salary'] = X['Salary'].str.replace(\"$\", '')\n",
    "X['Salary'] = X['Salary'].str.replace(\",\", '')\n",
    "X['Salary'] = X['Salary'].str.replace(\"a year\", '')\n",
    "X['Salary'] = X['Salary'].str.replace(\"From\", '')"
   ]
  },
  {
   "cell_type": "code",
   "execution_count": null,
   "metadata": {},
   "outputs": [],
   "source": [
    "X.head()\n",
    "print(X.shape)"
   ]
  },
  {
   "cell_type": "code",
   "execution_count": null,
   "metadata": {},
   "outputs": [],
   "source": [
    "X = X[X.Salary.str.contains(\"hour\") == False]\n",
    "X = X[X.Salary.str.contains(\"month\") == False]\n",
    "X = X[X.Salary.str.contains(\"week\") == False]\n",
    "X = X[X.Salary.str.contains(\"Up\") == False]\n",
    "X = X[X.Salary.str.contains(\"class\") == False]\n",
    "X = X[X.Salary.str.contains(\"day\") == False]\n",
    "\n",
    "print(X.shape)\n",
    "X.head()"
   ]
  },
  {
   "cell_type": "code",
   "execution_count": null,
   "metadata": {},
   "outputs": [],
   "source": [
    "#X['Salary'].unique()"
   ]
  },
  {
   "cell_type": "code",
   "execution_count": null,
   "metadata": {},
   "outputs": [],
   "source": [
    "new_salary_list = []\n",
    "for i in X['Salary']:\n",
    "    a = i.split('-')\n",
    "    if len(a) == 2:\n",
    "        new_salary_list.append(np.mean([float(b) for b in a]))\n",
    "    else:\n",
    "        new_salary_list.append(float(a[0]))"
   ]
  },
  {
   "cell_type": "code",
   "execution_count": null,
   "metadata": {},
   "outputs": [],
   "source": [
    "new_salary_list[0:5]"
   ]
  },
  {
   "cell_type": "code",
   "execution_count": null,
   "metadata": {},
   "outputs": [],
   "source": [
    "X['Salary'] = new_salary_list"
   ]
  },
  {
   "cell_type": "code",
   "execution_count": null,
   "metadata": {},
   "outputs": [],
   "source": [
    "X.shape"
   ]
  },
  {
   "cell_type": "code",
   "execution_count": null,
   "metadata": {},
   "outputs": [],
   "source": [
    "X.duplicated().sum()"
   ]
  },
  {
   "cell_type": "code",
   "execution_count": null,
   "metadata": {},
   "outputs": [],
   "source": [
    "X.head()"
   ]
  },
  {
   "cell_type": "code",
   "execution_count": null,
   "metadata": {},
   "outputs": [],
   "source": [
    "X['Location'].isnull().sum()"
   ]
  },
  {
   "cell_type": "code",
   "execution_count": null,
   "metadata": {},
   "outputs": [],
   "source": [
    "X.to_csv('Indeed_cleaned_data.csv', index = False, encoding = 'utf-8')"
   ]
  },
  {
   "cell_type": "code",
   "execution_count": 3,
   "metadata": {},
   "outputs": [],
   "source": [
    "df = pd.read_csv('Indeed_cleaned_data.csv')"
   ]
  },
  {
   "cell_type": "code",
   "execution_count": 4,
   "metadata": {},
   "outputs": [
    {
     "data": {
      "text/html": [
       "<div>\n",
       "<style scoped>\n",
       "    .dataframe tbody tr th:only-of-type {\n",
       "        vertical-align: middle;\n",
       "    }\n",
       "\n",
       "    .dataframe tbody tr th {\n",
       "        vertical-align: top;\n",
       "    }\n",
       "\n",
       "    .dataframe thead th {\n",
       "        text-align: right;\n",
       "    }\n",
       "</style>\n",
       "<table border=\"1\" class=\"dataframe\">\n",
       "  <thead>\n",
       "    <tr style=\"text-align: right;\">\n",
       "      <th></th>\n",
       "      <th>Job_title</th>\n",
       "      <th>Company</th>\n",
       "      <th>Location</th>\n",
       "      <th>Salary</th>\n",
       "      <th>Job_description</th>\n",
       "    </tr>\n",
       "  </thead>\n",
       "  <tbody>\n",
       "    <tr>\n",
       "      <th>0</th>\n",
       "      <td>Audit Data Analyst</td>\n",
       "      <td>Bellwether Staffing Solutions</td>\n",
       "      <td>White Plains, NY</td>\n",
       "      <td>87500.0</td>\n",
       "      <td>We are currently recruiting for an Audit Data ...</td>\n",
       "    </tr>\n",
       "    <tr>\n",
       "      <th>1</th>\n",
       "      <td>Jr. Business Analyst</td>\n",
       "      <td>First Notch Technology</td>\n",
       "      <td>Nyack, NY</td>\n",
       "      <td>55000.0</td>\n",
       "      <td>As a Business Analyst based in Halifax you are...</td>\n",
       "    </tr>\n",
       "    <tr>\n",
       "      <th>2</th>\n",
       "      <td>Business Analyst</td>\n",
       "      <td>Hixny</td>\n",
       "      <td>Albany, NY</td>\n",
       "      <td>57500.0</td>\n",
       "      <td>This detail and process-oriented position will...</td>\n",
       "    </tr>\n",
       "    <tr>\n",
       "      <th>3</th>\n",
       "      <td>Senior Data Analyst</td>\n",
       "      <td>Labaton Sucharow</td>\n",
       "      <td>New York, NY</td>\n",
       "      <td>80000.0</td>\n",
       "      <td>3-6 years of related experience;The candidate ...</td>\n",
       "    </tr>\n",
       "    <tr>\n",
       "      <th>4</th>\n",
       "      <td>Entry Level Business Analyst</td>\n",
       "      <td>Digi555</td>\n",
       "      <td>New York, NY</td>\n",
       "      <td>64000.0</td>\n",
       "      <td>We are looking to hire Entry Level Business An...</td>\n",
       "    </tr>\n",
       "  </tbody>\n",
       "</table>\n",
       "</div>"
      ],
      "text/plain": [
       "                      Job_title                        Company  \\\n",
       "0            Audit Data Analyst  Bellwether Staffing Solutions   \n",
       "1          Jr. Business Analyst         First Notch Technology   \n",
       "2              Business Analyst                          Hixny   \n",
       "3           Senior Data Analyst               Labaton Sucharow   \n",
       "4  Entry Level Business Analyst                        Digi555   \n",
       "\n",
       "           Location   Salary  \\\n",
       "0  White Plains, NY  87500.0   \n",
       "1         Nyack, NY  55000.0   \n",
       "2        Albany, NY  57500.0   \n",
       "3      New York, NY  80000.0   \n",
       "4      New York, NY  64000.0   \n",
       "\n",
       "                                     Job_description  \n",
       "0  We are currently recruiting for an Audit Data ...  \n",
       "1  As a Business Analyst based in Halifax you are...  \n",
       "2  This detail and process-oriented position will...  \n",
       "3  3-6 years of related experience;The candidate ...  \n",
       "4  We are looking to hire Entry Level Business An...  "
      ]
     },
     "execution_count": 4,
     "metadata": {},
     "output_type": "execute_result"
    }
   ],
   "source": [
    "df.head()"
   ]
  },
  {
   "cell_type": "code",
   "execution_count": 5,
   "metadata": {},
   "outputs": [
    {
     "name": "stdout",
     "output_type": "stream",
     "text": [
      "77500.0\n"
     ]
    }
   ],
   "source": [
    "median_salary = np.median(df.Salary)\n",
    "print(median_salary)"
   ]
  },
  {
   "cell_type": "code",
   "execution_count": 6,
   "metadata": {},
   "outputs": [
    {
     "data": {
      "text/html": [
       "<div>\n",
       "<style scoped>\n",
       "    .dataframe tbody tr th:only-of-type {\n",
       "        vertical-align: middle;\n",
       "    }\n",
       "\n",
       "    .dataframe tbody tr th {\n",
       "        vertical-align: top;\n",
       "    }\n",
       "\n",
       "    .dataframe thead th {\n",
       "        text-align: right;\n",
       "    }\n",
       "</style>\n",
       "<table border=\"1\" class=\"dataframe\">\n",
       "  <thead>\n",
       "    <tr style=\"text-align: right;\">\n",
       "      <th></th>\n",
       "      <th>Job_title</th>\n",
       "      <th>Company</th>\n",
       "      <th>Location</th>\n",
       "      <th>Salary</th>\n",
       "      <th>Job_description</th>\n",
       "      <th>_high_Salary</th>\n",
       "    </tr>\n",
       "  </thead>\n",
       "  <tbody>\n",
       "    <tr>\n",
       "      <th>0</th>\n",
       "      <td>Audit Data Analyst</td>\n",
       "      <td>Bellwether Staffing Solutions</td>\n",
       "      <td>White Plains, NY</td>\n",
       "      <td>87500.0</td>\n",
       "      <td>We are currently recruiting for an Audit Data ...</td>\n",
       "      <td>1</td>\n",
       "    </tr>\n",
       "    <tr>\n",
       "      <th>1</th>\n",
       "      <td>Jr. Business Analyst</td>\n",
       "      <td>First Notch Technology</td>\n",
       "      <td>Nyack, NY</td>\n",
       "      <td>55000.0</td>\n",
       "      <td>As a Business Analyst based in Halifax you are...</td>\n",
       "      <td>0</td>\n",
       "    </tr>\n",
       "    <tr>\n",
       "      <th>2</th>\n",
       "      <td>Business Analyst</td>\n",
       "      <td>Hixny</td>\n",
       "      <td>Albany, NY</td>\n",
       "      <td>57500.0</td>\n",
       "      <td>This detail and process-oriented position will...</td>\n",
       "      <td>0</td>\n",
       "    </tr>\n",
       "    <tr>\n",
       "      <th>3</th>\n",
       "      <td>Senior Data Analyst</td>\n",
       "      <td>Labaton Sucharow</td>\n",
       "      <td>New York, NY</td>\n",
       "      <td>80000.0</td>\n",
       "      <td>3-6 years of related experience;The candidate ...</td>\n",
       "      <td>1</td>\n",
       "    </tr>\n",
       "    <tr>\n",
       "      <th>4</th>\n",
       "      <td>Entry Level Business Analyst</td>\n",
       "      <td>Digi555</td>\n",
       "      <td>New York, NY</td>\n",
       "      <td>64000.0</td>\n",
       "      <td>We are looking to hire Entry Level Business An...</td>\n",
       "      <td>0</td>\n",
       "    </tr>\n",
       "  </tbody>\n",
       "</table>\n",
       "</div>"
      ],
      "text/plain": [
       "                      Job_title                        Company  \\\n",
       "0            Audit Data Analyst  Bellwether Staffing Solutions   \n",
       "1          Jr. Business Analyst         First Notch Technology   \n",
       "2              Business Analyst                          Hixny   \n",
       "3           Senior Data Analyst               Labaton Sucharow   \n",
       "4  Entry Level Business Analyst                        Digi555   \n",
       "\n",
       "           Location   Salary  \\\n",
       "0  White Plains, NY  87500.0   \n",
       "1         Nyack, NY  55000.0   \n",
       "2        Albany, NY  57500.0   \n",
       "3      New York, NY  80000.0   \n",
       "4      New York, NY  64000.0   \n",
       "\n",
       "                                     Job_description  _high_Salary  \n",
       "0  We are currently recruiting for an Audit Data ...             1  \n",
       "1  As a Business Analyst based in Halifax you are...             0  \n",
       "2  This detail and process-oriented position will...             0  \n",
       "3  3-6 years of related experience;The candidate ...             1  \n",
       "4  We are looking to hire Entry Level Business An...             0  "
      ]
     },
     "execution_count": 6,
     "metadata": {},
     "output_type": "execute_result"
    }
   ],
   "source": [
    "df['_high_Salary'] = [1 if i > median_salary else 0 for i in df.Salary]\n",
    "df.head()"
   ]
  },
  {
   "cell_type": "code",
   "execution_count": 7,
   "metadata": {},
   "outputs": [
    {
     "data": {
      "text/plain": [
       "Washington, DC     94\n",
       "New York, NY       38\n",
       "Boston, MA         25\n",
       "Arlington, VA      24\n",
       "Atlanta, GA        21\n",
       "                   ..\n",
       "Braintree, MA       1\n",
       "Orange, CA          1\n",
       "Bangor, WA          1\n",
       "Endicott, NY        1\n",
       "New Orleans, LA     1\n",
       "Name: Location, Length: 183, dtype: int64"
      ]
     },
     "execution_count": 7,
     "metadata": {},
     "output_type": "execute_result"
    }
   ],
   "source": [
    "df.Location.value_counts()"
   ]
  },
  {
   "cell_type": "code",
   "execution_count": 8,
   "metadata": {},
   "outputs": [],
   "source": [
    "city_name = []\n",
    "state_name = []\n",
    "for loc in df.Location:\n",
    "    items = loc.split(',')\n",
    "    city_name.append(items[0])\n",
    "    state_name.append(items[1])"
   ]
  },
  {
   "cell_type": "code",
   "execution_count": 9,
   "metadata": {},
   "outputs": [],
   "source": [
    "import re\n",
    "only_states = []\n",
    "\n",
    "for state in state_name:\n",
    "    only_states.append(re.search(r'\\w+', state).group(0))"
   ]
  },
  {
   "cell_type": "code",
   "execution_count": 10,
   "metadata": {},
   "outputs": [],
   "source": [
    "df['City Name'] = city_name\n",
    "df['State'] = only_states"
   ]
  },
  {
   "cell_type": "code",
   "execution_count": 11,
   "metadata": {},
   "outputs": [
    {
     "data": {
      "text/html": [
       "<div>\n",
       "<style scoped>\n",
       "    .dataframe tbody tr th:only-of-type {\n",
       "        vertical-align: middle;\n",
       "    }\n",
       "\n",
       "    .dataframe tbody tr th {\n",
       "        vertical-align: top;\n",
       "    }\n",
       "\n",
       "    .dataframe thead th {\n",
       "        text-align: right;\n",
       "    }\n",
       "</style>\n",
       "<table border=\"1\" class=\"dataframe\">\n",
       "  <thead>\n",
       "    <tr style=\"text-align: right;\">\n",
       "      <th></th>\n",
       "      <th>Job_title</th>\n",
       "      <th>Company</th>\n",
       "      <th>Location</th>\n",
       "      <th>Salary</th>\n",
       "      <th>Job_description</th>\n",
       "      <th>_high_Salary</th>\n",
       "      <th>City Name</th>\n",
       "      <th>State</th>\n",
       "    </tr>\n",
       "  </thead>\n",
       "  <tbody>\n",
       "    <tr>\n",
       "      <th>0</th>\n",
       "      <td>Audit Data Analyst</td>\n",
       "      <td>Bellwether Staffing Solutions</td>\n",
       "      <td>White Plains, NY</td>\n",
       "      <td>87500.0</td>\n",
       "      <td>We are currently recruiting for an Audit Data ...</td>\n",
       "      <td>1</td>\n",
       "      <td>White Plains</td>\n",
       "      <td>NY</td>\n",
       "    </tr>\n",
       "    <tr>\n",
       "      <th>1</th>\n",
       "      <td>Jr. Business Analyst</td>\n",
       "      <td>First Notch Technology</td>\n",
       "      <td>Nyack, NY</td>\n",
       "      <td>55000.0</td>\n",
       "      <td>As a Business Analyst based in Halifax you are...</td>\n",
       "      <td>0</td>\n",
       "      <td>Nyack</td>\n",
       "      <td>NY</td>\n",
       "    </tr>\n",
       "    <tr>\n",
       "      <th>2</th>\n",
       "      <td>Business Analyst</td>\n",
       "      <td>Hixny</td>\n",
       "      <td>Albany, NY</td>\n",
       "      <td>57500.0</td>\n",
       "      <td>This detail and process-oriented position will...</td>\n",
       "      <td>0</td>\n",
       "      <td>Albany</td>\n",
       "      <td>NY</td>\n",
       "    </tr>\n",
       "    <tr>\n",
       "      <th>3</th>\n",
       "      <td>Senior Data Analyst</td>\n",
       "      <td>Labaton Sucharow</td>\n",
       "      <td>New York, NY</td>\n",
       "      <td>80000.0</td>\n",
       "      <td>3-6 years of related experience;The candidate ...</td>\n",
       "      <td>1</td>\n",
       "      <td>New York</td>\n",
       "      <td>NY</td>\n",
       "    </tr>\n",
       "    <tr>\n",
       "      <th>4</th>\n",
       "      <td>Entry Level Business Analyst</td>\n",
       "      <td>Digi555</td>\n",
       "      <td>New York, NY</td>\n",
       "      <td>64000.0</td>\n",
       "      <td>We are looking to hire Entry Level Business An...</td>\n",
       "      <td>0</td>\n",
       "      <td>New York</td>\n",
       "      <td>NY</td>\n",
       "    </tr>\n",
       "  </tbody>\n",
       "</table>\n",
       "</div>"
      ],
      "text/plain": [
       "                      Job_title                        Company  \\\n",
       "0            Audit Data Analyst  Bellwether Staffing Solutions   \n",
       "1          Jr. Business Analyst         First Notch Technology   \n",
       "2              Business Analyst                          Hixny   \n",
       "3           Senior Data Analyst               Labaton Sucharow   \n",
       "4  Entry Level Business Analyst                        Digi555   \n",
       "\n",
       "           Location   Salary  \\\n",
       "0  White Plains, NY  87500.0   \n",
       "1         Nyack, NY  55000.0   \n",
       "2        Albany, NY  57500.0   \n",
       "3      New York, NY  80000.0   \n",
       "4      New York, NY  64000.0   \n",
       "\n",
       "                                     Job_description  _high_Salary  \\\n",
       "0  We are currently recruiting for an Audit Data ...             1   \n",
       "1  As a Business Analyst based in Halifax you are...             0   \n",
       "2  This detail and process-oriented position will...             0   \n",
       "3  3-6 years of related experience;The candidate ...             1   \n",
       "4  We are looking to hire Entry Level Business An...             0   \n",
       "\n",
       "      City Name State  \n",
       "0  White Plains    NY  \n",
       "1         Nyack    NY  \n",
       "2        Albany    NY  \n",
       "3      New York    NY  \n",
       "4      New York    NY  "
      ]
     },
     "execution_count": 11,
     "metadata": {},
     "output_type": "execute_result"
    }
   ],
   "source": [
    "df.head()"
   ]
  },
  {
   "cell_type": "code",
   "execution_count": 12,
   "metadata": {},
   "outputs": [
    {
     "name": "stdout",
     "output_type": "stream",
     "text": [
      "Washington      94\n",
      "New York        38\n",
      "Boston          25\n",
      "Arlington       24\n",
      "Atlanta         21\n",
      "                ..\n",
      "Randolph AFB     1\n",
      "Rome             1\n",
      "Leander          1\n",
      "Fort Meade       1\n",
      "Catonsville      1\n",
      "Name: City Name, Length: 182, dtype: int64\n"
     ]
    }
   ],
   "source": [
    "df['City Name'].nunique()\n",
    "print(df['City Name'].value_counts())"
   ]
  },
  {
   "cell_type": "code",
   "execution_count": 13,
   "metadata": {},
   "outputs": [],
   "source": [
    "city_dummy = pd.get_dummies(df['City Name'])\n",
    "X_city = city_dummy\n",
    "Y_city = df['_high_Salary']"
   ]
  },
  {
   "cell_type": "code",
   "execution_count": 14,
   "metadata": {},
   "outputs": [],
   "source": [
    "X_train, X_test, y_train, y_test = train_test_split(X_city, Y_city, test_size = 0.3, random_state = 80)"
   ]
  },
  {
   "cell_type": "code",
   "execution_count": 15,
   "metadata": {},
   "outputs": [
    {
     "name": "stdout",
     "output_type": "stream",
     "text": [
      "Accuracy Score:  0.663\n",
      "Cross Validation Score:\t0.516 ± 0.13\n"
     ]
    }
   ],
   "source": [
    "rf_model = RandomForestClassifier(n_estimators = 300, random_state = 90)\n",
    "rf_model.fit(X_train, y_train)\n",
    "\n",
    "rf_predictions = rf_model.predict(X_test)\n",
    "acc = accuracy_score(y_test, rf_predictions)\n",
    "print(\"Accuracy Score: \", acc.round(3))\n",
    "\n",
    "s = cross_val_score(rf_model, X_city, Y_city, cv = 10, n_jobs = -1)\n",
    "print('Cross Validation Score:\\t{:0.3} ± {:0.3}'.format(s.mean().round(3), s.std().round(3)))"
   ]
  },
  {
   "cell_type": "code",
   "execution_count": 18,
   "metadata": {},
   "outputs": [
    {
     "data": {
      "text/html": [
       "<div>\n",
       "<style scoped>\n",
       "    .dataframe tbody tr th:only-of-type {\n",
       "        vertical-align: middle;\n",
       "    }\n",
       "\n",
       "    .dataframe tbody tr th {\n",
       "        vertical-align: top;\n",
       "    }\n",
       "\n",
       "    .dataframe thead th {\n",
       "        text-align: right;\n",
       "    }\n",
       "</style>\n",
       "<table border=\"1\" class=\"dataframe\">\n",
       "  <thead>\n",
       "    <tr style=\"text-align: right;\">\n",
       "      <th></th>\n",
       "      <th>Feature</th>\n",
       "      <th>importance</th>\n",
       "      <th>median_salary</th>\n",
       "      <th>Over or Under</th>\n",
       "    </tr>\n",
       "  </thead>\n",
       "  <tbody>\n",
       "    <tr>\n",
       "      <th>177</th>\n",
       "      <td>Washington</td>\n",
       "      <td>0.037812</td>\n",
       "      <td>94416.25</td>\n",
       "      <td>1</td>\n",
       "    </tr>\n",
       "    <tr>\n",
       "      <th>125</th>\n",
       "      <td>Phoenix</td>\n",
       "      <td>0.027173</td>\n",
       "      <td>62500.00</td>\n",
       "      <td>0</td>\n",
       "    </tr>\n",
       "    <tr>\n",
       "      <th>132</th>\n",
       "      <td>Queens</td>\n",
       "      <td>0.024158</td>\n",
       "      <td>81167.00</td>\n",
       "      <td>1</td>\n",
       "    </tr>\n",
       "    <tr>\n",
       "      <th>50</th>\n",
       "      <td>Dallas</td>\n",
       "      <td>0.024117</td>\n",
       "      <td>72500.00</td>\n",
       "      <td>0</td>\n",
       "    </tr>\n",
       "    <tr>\n",
       "      <th>150</th>\n",
       "      <td>San Francisco</td>\n",
       "      <td>0.022986</td>\n",
       "      <td>102500.00</td>\n",
       "      <td>1</td>\n",
       "    </tr>\n",
       "    <tr>\n",
       "      <th>19</th>\n",
       "      <td>Boston</td>\n",
       "      <td>0.022384</td>\n",
       "      <td>106100.00</td>\n",
       "      <td>1</td>\n",
       "    </tr>\n",
       "    <tr>\n",
       "      <th>8</th>\n",
       "      <td>Atlanta</td>\n",
       "      <td>0.020290</td>\n",
       "      <td>61000.00</td>\n",
       "      <td>0</td>\n",
       "    </tr>\n",
       "    <tr>\n",
       "      <th>11</th>\n",
       "      <td>Baltimore</td>\n",
       "      <td>0.017476</td>\n",
       "      <td>75000.00</td>\n",
       "      <td>0</td>\n",
       "    </tr>\n",
       "    <tr>\n",
       "      <th>76</th>\n",
       "      <td>Indianapolis</td>\n",
       "      <td>0.016302</td>\n",
       "      <td>102136.50</td>\n",
       "      <td>1</td>\n",
       "    </tr>\n",
       "    <tr>\n",
       "      <th>163</th>\n",
       "      <td>Tampa</td>\n",
       "      <td>0.015356</td>\n",
       "      <td>55000.00</td>\n",
       "      <td>0</td>\n",
       "    </tr>\n",
       "    <tr>\n",
       "      <th>0</th>\n",
       "      <td>Alameda</td>\n",
       "      <td>0.015283</td>\n",
       "      <td>83500.00</td>\n",
       "      <td>1</td>\n",
       "    </tr>\n",
       "    <tr>\n",
       "      <th>37</th>\n",
       "      <td>Clearwater</td>\n",
       "      <td>0.015233</td>\n",
       "      <td>95000.00</td>\n",
       "      <td>1</td>\n",
       "    </tr>\n",
       "    <tr>\n",
       "      <th>7</th>\n",
       "      <td>Arlington</td>\n",
       "      <td>0.013451</td>\n",
       "      <td>101250.00</td>\n",
       "      <td>1</td>\n",
       "    </tr>\n",
       "    <tr>\n",
       "      <th>118</th>\n",
       "      <td>Oakland</td>\n",
       "      <td>0.012472</td>\n",
       "      <td>92500.00</td>\n",
       "      <td>1</td>\n",
       "    </tr>\n",
       "    <tr>\n",
       "      <th>142</th>\n",
       "      <td>Rockville</td>\n",
       "      <td>0.012118</td>\n",
       "      <td>92135.00</td>\n",
       "      <td>1</td>\n",
       "    </tr>\n",
       "  </tbody>\n",
       "</table>\n",
       "</div>"
      ],
      "text/plain": [
       "           Feature  importance  median_salary  Over or Under\n",
       "177     Washington    0.037812       94416.25              1\n",
       "125        Phoenix    0.027173       62500.00              0\n",
       "132         Queens    0.024158       81167.00              1\n",
       "50          Dallas    0.024117       72500.00              0\n",
       "150  San Francisco    0.022986      102500.00              1\n",
       "19          Boston    0.022384      106100.00              1\n",
       "8          Atlanta    0.020290       61000.00              0\n",
       "11       Baltimore    0.017476       75000.00              0\n",
       "76    Indianapolis    0.016302      102136.50              1\n",
       "163          Tampa    0.015356       55000.00              0\n",
       "0          Alameda    0.015283       83500.00              1\n",
       "37      Clearwater    0.015233       95000.00              1\n",
       "7        Arlington    0.013451      101250.00              1\n",
       "118        Oakland    0.012472       92500.00              1\n",
       "142      Rockville    0.012118       92135.00              1"
      ]
     },
     "execution_count": 18,
     "metadata": {},
     "output_type": "execute_result"
    }
   ],
   "source": [
    "feature_importance = pd.DataFrame(rf_model.feature_importances_, index = X_city.columns).reset_index()\n",
    "feature_importance.columns = ['Feature', 'importance']\n",
    "feature_importance_median = []\n",
    "\n",
    "for i in X_city.columns:\n",
    "    feature_importance_median.append(np.median(df[df['City Name'] == i].Salary))\n",
    "\n",
    "feature_importance['median_salary'] = feature_importance_median\n",
    "feature_importance['Over or Under'] = [1 if i > median_salary else 0 for i in feature_importance.median_salary]\n",
    "feature_importance.sort_values('importance', ascending = False).head(15)"
   ]
  },
  {
   "cell_type": "code",
   "execution_count": 22,
   "metadata": {},
   "outputs": [],
   "source": [
    "df_desc = df[df.Job_description.notnull()]\n",
    "X_desc = df_desc.Job_description\n",
    "y_desc = df_desc._high_Salary\n",
    "\n",
    "#df_desc.head()"
   ]
  },
  {
   "cell_type": "code",
   "execution_count": 23,
   "metadata": {},
   "outputs": [
    {
     "data": {
      "text/plain": [
       "CountVectorizer(stop_words='english')"
      ]
     },
     "execution_count": 23,
     "metadata": {},
     "output_type": "execute_result"
    }
   ],
   "source": [
    "cv = CountVectorizer(stop_words = 'english')\n",
    "cv.fit(X_desc)"
   ]
  },
  {
   "cell_type": "code",
   "execution_count": 24,
   "metadata": {},
   "outputs": [
    {
     "data": {
      "text/plain": [
       "2187"
      ]
     },
     "execution_count": 24,
     "metadata": {},
     "output_type": "execute_result"
    }
   ],
   "source": [
    "len(cv.get_feature_names())"
   ]
  },
  {
   "cell_type": "code",
   "execution_count": 25,
   "metadata": {},
   "outputs": [],
   "source": [
    "X_desc_transformed = pd.DataFrame(cv.transform(X_desc).todense(), columns = cv.get_feature_names())"
   ]
  },
  {
   "cell_type": "code",
   "execution_count": 26,
   "metadata": {},
   "outputs": [],
   "source": [
    "X_desc_train, X_desc_test, y_desc_train, y_desc_test = train_test_split(np.asmatrix(X_desc_transformed), y_desc, test_size = 0.3, random_state = 60, stratify = y_desc)"
   ]
  },
  {
   "cell_type": "code",
   "execution_count": 28,
   "metadata": {},
   "outputs": [
    {
     "data": {
      "text/plain": [
       "data           668\n",
       "years          225\n",
       "experience     197\n",
       "business       178\n",
       "analyst        167\n",
       "analysis       131\n",
       "management      82\n",
       "position        78\n",
       "analyze         67\n",
       "required        67\n",
       "support         57\n",
       "research        57\n",
       "skills          54\n",
       "work            53\n",
       "reports         53\n",
       "program         51\n",
       "information     48\n",
       "attention       48\n",
       "using           47\n",
       "degree          46\n",
       "dtype: int64"
      ]
     },
     "execution_count": 28,
     "metadata": {},
     "output_type": "execute_result"
    }
   ],
   "source": [
    "word_counts = X_desc_transformed.sum(axis = 0)\n",
    "word_counts.sort_values(ascending = False).head(20)"
   ]
  },
  {
   "cell_type": "code",
   "execution_count": 31,
   "metadata": {},
   "outputs": [
    {
     "name": "stderr",
     "output_type": "stream",
     "text": [
      "c:\\users\\amanj\\appdata\\local\\programs\\python\\python37\\lib\\site-packages\\ipykernel_launcher.py:1: FutureWarning: The signature of `Series.to_csv` was aligned to that of `DataFrame.to_csv`, and argument 'header' will change its default value from False to True: please pass an explicit value to suppress this warning.\n",
      "  \"\"\"Entry point for launching an IPython kernel.\n"
     ]
    }
   ],
   "source": [
    "word_counts.to_csv('Indeed_wordCounts.csv', index = False, encoding = 'utf-8')"
   ]
  },
  {
   "cell_type": "code",
   "execution_count": 34,
   "metadata": {},
   "outputs": [
    {
     "name": "stdout",
     "output_type": "stream",
     "text": [
      "Accuracy:  0.639\n"
     ]
    },
    {
     "name": "stderr",
     "output_type": "stream",
     "text": [
      "c:\\users\\amanj\\appdata\\local\\programs\\python\\python37\\lib\\site-packages\\ipykernel_launcher.py:8: FutureWarning: Method .as_matrix will be removed in a future version. Use .values instead.\n",
      "  \n"
     ]
    },
    {
     "name": "stdout",
     "output_type": "stream",
     "text": [
      "Cross Validation Score: 0.618 ± 0.618\n"
     ]
    }
   ],
   "source": [
    "rf_desc_model = RandomForestClassifier(200, random_state = 59)\n",
    "rf_desc_model.fit(X_desc_train, y_desc_train)\n",
    "\n",
    "rf_desc_model_preds = rf_desc_model.predict(X_desc_test)\n",
    "desc_model_acc = accuracy_score(y_desc_test, rf_desc_model_preds)\n",
    "print(\"Accuracy: \", desc_model_acc.round(3))\n",
    "\n",
    "s = cross_val_score(rf_desc_model, X_desc_transformed.as_matrix(), y_desc.as_matrix(), cv = 10, n_jobs = -1)\n",
    "print(\"Cross Validation Score: {0:3} ± {0:3}\".format(s.mean().round(3), s.std().round(3)))"
   ]
  },
  {
   "cell_type": "code",
   "execution_count": 35,
   "metadata": {
    "scrolled": false
   },
   "outputs": [
    {
     "data": {
      "text/html": [
       "<div>\n",
       "<style scoped>\n",
       "    .dataframe tbody tr th:only-of-type {\n",
       "        vertical-align: middle;\n",
       "    }\n",
       "\n",
       "    .dataframe tbody tr th {\n",
       "        vertical-align: top;\n",
       "    }\n",
       "\n",
       "    .dataframe thead th {\n",
       "        text-align: right;\n",
       "    }\n",
       "</style>\n",
       "<table border=\"1\" class=\"dataframe\">\n",
       "  <thead>\n",
       "    <tr style=\"text-align: right;\">\n",
       "      <th></th>\n",
       "      <th>Features</th>\n",
       "      <th>Importance</th>\n",
       "      <th>median_salary</th>\n",
       "      <th>mean_salary</th>\n",
       "      <th>over_or_under</th>\n",
       "    </tr>\n",
       "  </thead>\n",
       "  <tbody>\n",
       "    <tr>\n",
       "      <th>571</th>\n",
       "      <td>data</td>\n",
       "      <td>0.010150</td>\n",
       "      <td>75000.00</td>\n",
       "      <td>81488.768802</td>\n",
       "      <td>0</td>\n",
       "    </tr>\n",
       "    <tr>\n",
       "      <th>169</th>\n",
       "      <td>analyze</td>\n",
       "      <td>0.009648</td>\n",
       "      <td>71469.50</td>\n",
       "      <td>72862.184932</td>\n",
       "      <td>0</td>\n",
       "    </tr>\n",
       "    <tr>\n",
       "      <th>2182</th>\n",
       "      <td>years</td>\n",
       "      <td>0.008883</td>\n",
       "      <td>80193.25</td>\n",
       "      <td>85855.216049</td>\n",
       "      <td>1</td>\n",
       "    </tr>\n",
       "    <tr>\n",
       "      <th>803</th>\n",
       "      <td>experience</td>\n",
       "      <td>0.008857</td>\n",
       "      <td>80000.00</td>\n",
       "      <td>83634.570588</td>\n",
       "      <td>1</td>\n",
       "    </tr>\n",
       "    <tr>\n",
       "      <th>1587</th>\n",
       "      <td>program</td>\n",
       "      <td>0.008133</td>\n",
       "      <td>86000.00</td>\n",
       "      <td>86939.607692</td>\n",
       "      <td>1</td>\n",
       "    </tr>\n",
       "    <tr>\n",
       "      <th>605</th>\n",
       "      <td>department</td>\n",
       "      <td>0.007670</td>\n",
       "      <td>88339.50</td>\n",
       "      <td>89760.585714</td>\n",
       "      <td>1</td>\n",
       "    </tr>\n",
       "    <tr>\n",
       "      <th>1713</th>\n",
       "      <td>reports</td>\n",
       "      <td>0.007257</td>\n",
       "      <td>62500.00</td>\n",
       "      <td>71361.905660</td>\n",
       "      <td>0</td>\n",
       "    </tr>\n",
       "    <tr>\n",
       "      <th>90</th>\n",
       "      <td>accuracy</td>\n",
       "      <td>0.007200</td>\n",
       "      <td>70000.00</td>\n",
       "      <td>66887.761905</td>\n",
       "      <td>0</td>\n",
       "    </tr>\n",
       "    <tr>\n",
       "      <th>161</th>\n",
       "      <td>analysis</td>\n",
       "      <td>0.006363</td>\n",
       "      <td>80000.00</td>\n",
       "      <td>83438.088496</td>\n",
       "      <td>1</td>\n",
       "    </tr>\n",
       "    <tr>\n",
       "      <th>593</th>\n",
       "      <td>degree</td>\n",
       "      <td>0.006321</td>\n",
       "      <td>85000.00</td>\n",
       "      <td>92298.621622</td>\n",
       "      <td>1</td>\n",
       "    </tr>\n",
       "    <tr>\n",
       "      <th>318</th>\n",
       "      <td>business</td>\n",
       "      <td>0.006295</td>\n",
       "      <td>77500.00</td>\n",
       "      <td>80798.879433</td>\n",
       "      <td>0</td>\n",
       "    </tr>\n",
       "    <tr>\n",
       "      <th>1828</th>\n",
       "      <td>senior</td>\n",
       "      <td>0.006275</td>\n",
       "      <td>90648.00</td>\n",
       "      <td>97058.346154</td>\n",
       "      <td>1</td>\n",
       "    </tr>\n",
       "    <tr>\n",
       "      <th>2179</th>\n",
       "      <td>writing</td>\n",
       "      <td>0.005924</td>\n",
       "      <td>62500.00</td>\n",
       "      <td>68313.180000</td>\n",
       "      <td>0</td>\n",
       "    </tr>\n",
       "    <tr>\n",
       "      <th>1728</th>\n",
       "      <td>research</td>\n",
       "      <td>0.005764</td>\n",
       "      <td>62500.00</td>\n",
       "      <td>70450.132075</td>\n",
       "      <td>0</td>\n",
       "    </tr>\n",
       "    <tr>\n",
       "      <th>631</th>\n",
       "      <td>develops</td>\n",
       "      <td>0.005758</td>\n",
       "      <td>62500.00</td>\n",
       "      <td>66234.589286</td>\n",
       "      <td>0</td>\n",
       "    </tr>\n",
       "    <tr>\n",
       "      <th>851</th>\n",
       "      <td>financial</td>\n",
       "      <td>0.005576</td>\n",
       "      <td>75278.00</td>\n",
       "      <td>81893.414286</td>\n",
       "      <td>0</td>\n",
       "    </tr>\n",
       "    <tr>\n",
       "      <th>668</th>\n",
       "      <td>division</td>\n",
       "      <td>0.004791</td>\n",
       "      <td>86750.50</td>\n",
       "      <td>94182.781250</td>\n",
       "      <td>1</td>\n",
       "    </tr>\n",
       "    <tr>\n",
       "      <th>162</th>\n",
       "      <td>analyst</td>\n",
       "      <td>0.004751</td>\n",
       "      <td>75000.00</td>\n",
       "      <td>78055.142405</td>\n",
       "      <td>0</td>\n",
       "    </tr>\n",
       "    <tr>\n",
       "      <th>1420</th>\n",
       "      <td>organizational</td>\n",
       "      <td>0.004743</td>\n",
       "      <td>62500.00</td>\n",
       "      <td>65357.473684</td>\n",
       "      <td>0</td>\n",
       "    </tr>\n",
       "    <tr>\n",
       "      <th>1425</th>\n",
       "      <td>oriented</td>\n",
       "      <td>0.004731</td>\n",
       "      <td>62500.00</td>\n",
       "      <td>64508.538462</td>\n",
       "      <td>0</td>\n",
       "    </tr>\n",
       "  </tbody>\n",
       "</table>\n",
       "</div>"
      ],
      "text/plain": [
       "            Features  Importance  median_salary   mean_salary  over_or_under\n",
       "571             data    0.010150       75000.00  81488.768802              0\n",
       "169          analyze    0.009648       71469.50  72862.184932              0\n",
       "2182           years    0.008883       80193.25  85855.216049              1\n",
       "803       experience    0.008857       80000.00  83634.570588              1\n",
       "1587         program    0.008133       86000.00  86939.607692              1\n",
       "605       department    0.007670       88339.50  89760.585714              1\n",
       "1713         reports    0.007257       62500.00  71361.905660              0\n",
       "90          accuracy    0.007200       70000.00  66887.761905              0\n",
       "161         analysis    0.006363       80000.00  83438.088496              1\n",
       "593           degree    0.006321       85000.00  92298.621622              1\n",
       "318         business    0.006295       77500.00  80798.879433              0\n",
       "1828          senior    0.006275       90648.00  97058.346154              1\n",
       "2179         writing    0.005924       62500.00  68313.180000              0\n",
       "1728        research    0.005764       62500.00  70450.132075              0\n",
       "631         develops    0.005758       62500.00  66234.589286              0\n",
       "851        financial    0.005576       75278.00  81893.414286              0\n",
       "668         division    0.004791       86750.50  94182.781250              1\n",
       "162          analyst    0.004751       75000.00  78055.142405              0\n",
       "1420  organizational    0.004743       62500.00  65357.473684              0\n",
       "1425        oriented    0.004731       62500.00  64508.538462              0"
      ]
     },
     "execution_count": 35,
     "metadata": {},
     "output_type": "execute_result"
    }
   ],
   "source": [
    "feature_importance = pd.DataFrame(rf_desc_model.feature_importances_, index = X_desc_transformed.columns).reset_index()\n",
    "feature_importance.columns = ['Features', 'Importance']\n",
    "\n",
    "FI_median = []\n",
    "FI_mean = []\n",
    "\n",
    "for i in X_desc_transformed.columns:\n",
    "    FI_median.append(np.median(df_desc[df_desc.Job_description.str.lower().str.contains(i)].Salary))\n",
    "    FI_mean.append(np.mean(df_desc[df_desc.Job_description.str.lower().str.contains(i)].Salary))\n",
    "\n",
    "feature_importance['median_salary'] = FI_median\n",
    "feature_importance['mean_salary'] = FI_mean\n",
    "feature_importance['over_or_under'] = [1 if i > median_salary else 0 for i in feature_importance.median_salary]\n",
    "\n",
    "feature_importance.sort_values('Importance', ascending = False).head(20)"
   ]
  }
 ],
 "metadata": {
  "kernelspec": {
   "display_name": "Python 3",
   "language": "python",
   "name": "python3"
  },
  "language_info": {
   "codemirror_mode": {
    "name": "ipython",
    "version": 3
   },
   "file_extension": ".py",
   "mimetype": "text/x-python",
   "name": "python",
   "nbconvert_exporter": "python",
   "pygments_lexer": "ipython3",
   "version": "3.7.5"
  }
 },
 "nbformat": 4,
 "nbformat_minor": 2
}
